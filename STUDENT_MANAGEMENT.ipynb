{
  "nbformat": 4,
  "nbformat_minor": 0,
  "metadata": {
    "colab": {
      "provenance": [],
      "authorship_tag": "ABX9TyOoVHqkFv4w7cuTmhbdtCSL",
      "include_colab_link": true
    },
    "kernelspec": {
      "name": "python3",
      "display_name": "Python 3"
    },
    "language_info": {
      "name": "python"
    }
  },
  "cells": [
    {
      "cell_type": "markdown",
      "metadata": {
        "id": "view-in-github",
        "colab_type": "text"
      },
      "source": [
        "<a href=\"https://colab.research.google.com/github/Alwinjero/Student-Management-System/blob/main/STUDENT_MANAGEMENT.ipynb\" target=\"_parent\"><img src=\"https://colab.research.google.com/assets/colab-badge.svg\" alt=\"Open In Colab\"/></a>"
      ]
    },
    {
      "cell_type": "code",
      "source": [
        "# Student Management System\n",
        "# A list to store student records\n",
        "students = []\n",
        "\n",
        "# Function to display all students\n",
        "def display_students():\n",
        "    if not students:\n",
        "        print(\"No students available.\")\n",
        "    else:\n",
        "        print(\"Student List:\")\n",
        "        for i, student in enumerate(students, 1):\n",
        "            print(f\"{i}. Name: {student['name']}, Age: {student['age']}, ID: {student['id']}, Grade: {student['grade']}\")\n",
        "\n",
        "# Function to add a new student\n",
        "def add_student():\n",
        "    name = input(\"Enter student's name: \")\n",
        "    age = input(\"Enter student's age: \")\n",
        "    student_id = input(\"Enter student's ID: \")\n",
        "    grade = input(\"Enter student's grade: \")\n",
        "\n",
        "    # Create a new student record\n",
        "    student = {\n",
        "        'name': name,\n",
        "        'age': age,\n",
        "        'id': student_id,\n",
        "        'grade': grade\n",
        "    }\n",
        "\n",
        "    # Add student to the list\n",
        "    students.append(student)\n",
        "    print(f\"Student {name} added successfully!\")\n",
        "\n",
        "# Function to search for a student by ID\n",
        "def search_student():\n",
        "    student_id = input(\"Enter the student's ID to search: \")\n",
        "    for student in students:\n",
        "        if student['id'] == student_id:\n",
        "            print(f\"Student found: Name: {student['name']}, Age: {student['age']}, Grade: {student['grade']}\")\n",
        "            return\n",
        "    print(\"Student not found.\")\n",
        "\n",
        "# Function to delete a student by ID\n",
        "def delete_student():\n",
        "    student_id = input(\"Enter the student's ID to delete: \")\n",
        "    for student in students:\n",
        "        if student['id'] == student_id:\n",
        "            students.remove(student)\n",
        "            print(f\"Student with ID {student_id} deleted successfully.\")\n",
        "            return\n",
        "    print(\"Student not found.\")\n",
        "\n",
        "# Main menu function\n",
        "def menu():\n",
        "    while True:\n",
        "        print(\"\\n----- Student Management System -----\")\n",
        "        print(\"1. Display all students\")\n",
        "        print(\"2. Add a new student\")\n",
        "        print(\"3. Search for a student\")\n",
        "        print(\"4. Delete a student\")\n",
        "        print(\"5. Exit\")\n",
        "        choice = input(\"Enter your choice: \")\n",
        "\n",
        "        if choice == '1':\n",
        "            display_students()\n",
        "        elif choice == '2':\n",
        "            add_student()\n",
        "        elif choice == '3':\n",
        "            search_student()\n",
        "        elif choice == '4':\n",
        "            delete_student()\n",
        "        elif choice == '5':\n",
        "            print(\"Exiting the program.\")\n",
        "            break\n",
        "        else:\n",
        "            print(\"Invalid choice. Please try again.\")\n",
        "\n",
        "# Run the menu\n",
        "menu()\n"
      ],
      "metadata": {
        "id": "cGRk4LAAxJgL"
      },
      "execution_count": null,
      "outputs": []
    }
  ]
}